{
 "cells": [
  {
   "cell_type": "code",
   "execution_count": 12,
   "metadata": {
    "collapsed": false
   },
   "outputs": [
    {
     "ename": "SyntaxError",
     "evalue": "invalid syntax (<ipython-input-12-afd6f072d598>, line 2)",
     "output_type": "error",
     "traceback": [
      "\u001b[0;36m  File \u001b[0;32m\"<ipython-input-12-afd6f072d598>\"\u001b[0;36m, line \u001b[0;32m2\u001b[0m\n\u001b[0;31m    z = z++\u001b[0m\n\u001b[0m           ^\u001b[0m\n\u001b[0;31mSyntaxError\u001b[0m\u001b[0;31m:\u001b[0m invalid syntax\n"
     ]
    }
   ],
   "source": [
    "z = 1\n",
    "z = z++\n",
    "print(z)"
   ]
  },
  {
   "cell_type": "code",
   "execution_count": 2,
   "metadata": {
    "collapsed": true
   },
   "outputs": [],
   "source": [
    "#ASSIGNMENT 2 - Python\n",
    "\n",
    "#Python is a high-level, dynamically typed multiparadigm programming language. Python code is often said to be almost \n",
    "#like pseudocode, since it allows you to express very powerful ideas in very few lines of code while being very \n",
    "#readable. As an example, here is an implementation of the classic quicksort algorithm in Python:\"\"\""
   ]
  },
  {
   "cell_type": "code",
   "execution_count": 3,
   "metadata": {
    "collapsed": false
   },
   "outputs": [
    {
     "name": "stdout",
     "output_type": "stream",
     "text": [
      "[1, 1, 2, 3, 6, 8, 10]\n"
     ]
    }
   ],
   "source": [
    "def quicksort(arr_qs):\n",
    "    if len(arr_qs) <= 1:\n",
    "        return arr_qs\n",
    "    pivot_qs = arr_qs[len(arr_qs) // 2]\n",
    "    left_qs = [x for x in arr_qs if x < pivot_qs]\n",
    "    middle_qs = [x for x in arr_qs if x == pivot_qs]\n",
    "    right_qs = [x for x in arr_qs if x > pivot_qs]\n",
    "    return quicksort(left_qs) + middle_qs + quicksort(right_qs)\n",
    "\n",
    "print(quicksort([3,6,8,10,1,2,1]))\n",
    "# Prints \"[1, 1, 2, 3, 6, 8, 10]\""
   ]
  },
  {
   "cell_type": "code",
   "execution_count": 4,
   "metadata": {
    "collapsed": true
   },
   "outputs": [],
   "source": [
    "#Python versions \n",
    "\n",
    "#There are currently two different supported versions of Python, 2.7 and 3.5. Somewhat confusingly, Python 3.0 \n",
    "#introduced many backwards-incompatible changes to the language, so code written for 2.7 may not work under 3.5 \n",
    "#and vice versa. For this class all code will use Python 3.5.\n",
    "\n",
    "#You can check your Python version at the command line by running python --version."
   ]
  },
  {
   "cell_type": "code",
   "execution_count": 5,
   "metadata": {
    "collapsed": true
   },
   "outputs": [],
   "source": [
    "#Basic data types \n",
    "\n",
    "#Like most languages, Python has a number of basic types including integers, floats, booleans, and strings. These data \n",
    "#types behave in ways that are familiar from other programming languages.\n",
    "\n",
    "#Numbers: Integers and floats work as you would expect from other languages:"
   ]
  },
  {
   "cell_type": "code",
   "execution_count": 6,
   "metadata": {
    "collapsed": false
   },
   "outputs": [
    {
     "name": "stdout",
     "output_type": "stream",
     "text": [
      "<class 'int'>\n",
      "3\n",
      "4\n",
      "2\n",
      "6\n",
      "9\n",
      "4\n",
      "8\n",
      "<class 'float'>\n",
      "2.5 3.5 5.0 6.25\n"
     ]
    }
   ],
   "source": [
    "x_dt = 3\n",
    "print(type(x_dt)) # Prints \"<class 'int'>\"\n",
    "print(x_dt)       # Prints \"3\"\n",
    "print(x_dt + 1)   # Addition; prints \"4\"\n",
    "print(x_dt - 1)   # Subtraction; prints \"2\"\n",
    "print(x_dt * 2)   # Multiplication; prints \"6\"\n",
    "print(x_dt ** 2)  # Exponentiation; prints \"9\"\n",
    "x_dt += 1\n",
    "print(x_dt)  # Prints \"4\"\n",
    "x_dt *= 2\n",
    "print(x_dt)  # Prints \"8\"\n",
    "y_dt = 2.5\n",
    "print(type(y_dt)) # Prints \"<class 'float'>\"\n",
    "print(y_dt, y_dt + 1, y_dt * 2, y_dt ** 2) # Prints \"2.5 3.5 5.0 6.25\""
   ]
  },
  {
   "cell_type": "code",
   "execution_count": 7,
   "metadata": {
    "collapsed": true
   },
   "outputs": [],
   "source": [
    "#Note that unlike many languages, Python does not have unary increment (x++) or decrement (x--) operators.\n",
    "\n",
    "#Python also has built-in types for complex numbers; you can find all of the details in the documentation.\n",
    "\n",
    "#Booleans: Python implements all of the usual operators for Boolean logic, but uses English words rather \n",
    "#than symbols (&&, ||, etc.):"
   ]
  },
  {
   "cell_type": "code",
   "execution_count": 8,
   "metadata": {
    "collapsed": false
   },
   "outputs": [
    {
     "name": "stdout",
     "output_type": "stream",
     "text": [
      "<class 'bool'>\n",
      "False\n",
      "True\n",
      "False\n",
      "True\n"
     ]
    }
   ],
   "source": [
    "t_boo = True\n",
    "f_boo = False\n",
    "print(type(t_boo)) # Prints \"<class 'bool'>\"\n",
    "print(t_boo and f_boo) # Logical AND; prints \"False\"\n",
    "print(t_boo or f_boo)  # Logical OR; prints \"True\"\n",
    "print(not t_boo)   # Logical NOT; prints \"False\"\n",
    "print(t_boo != f_boo)  # Logical XOR; prints \"True\""
   ]
  },
  {
   "cell_type": "code",
   "execution_count": 9,
   "metadata": {
    "collapsed": true
   },
   "outputs": [],
   "source": [
    "#Strings: Python has great support for strings:"
   ]
  },
  {
   "cell_type": "code",
   "execution_count": 10,
   "metadata": {
    "collapsed": false
   },
   "outputs": [
    {
     "name": "stdout",
     "output_type": "stream",
     "text": [
      "hello_mlblr\n",
      "11\n",
      "hello_mlblr world_ofML\n",
      "hello_mlblr world_ofML 12\n"
     ]
    }
   ],
   "source": [
    "hello_mlblr = 'hello_mlblr'    # String literals can use single quotes\n",
    "world_ofML = \"world_ofML\"    # or double quotes; it does not matter.\n",
    "print(hello_mlblr)       # Prints \"hello\"\n",
    "print(len(hello_mlblr))  # String length; prints \"5\"\n",
    "hw_con = hello_mlblr + ' ' + world_ofML  # String concatenation\n",
    "print(hw_con)  # prints \"hello world\"\n",
    "hw12_format = '%s %s %d' % (hello_mlblr, world_ofML, 12)  # sprintf style string formatting\n",
    "print(hw12_format)  # prints \"hello world 12\""
   ]
  },
  {
   "cell_type": "code",
   "execution_count": 11,
   "metadata": {
    "collapsed": true
   },
   "outputs": [],
   "source": [
    "#String objects have a bunch of useful methods; for example:"
   ]
  },
  {
   "cell_type": "code",
   "execution_count": 12,
   "metadata": {
    "collapsed": false
   },
   "outputs": [
    {
     "name": "stdout",
     "output_type": "stream",
     "text": [
      "Hello\n",
      "HELLO\n",
      "  hello\n",
      " hello \n",
      "he(ell)(ell)o\n",
      "world\n"
     ]
    }
   ],
   "source": [
    "s_string = \"hello\"\n",
    "print(s_string.capitalize())  # Capitalize a string; prints \"Hello\"\n",
    "print(s_string.upper())       # Convert a string to uppercase; prints \"HELLO\"\n",
    "print(s_string.rjust(7))      # Right-justify a string, padding with spaces; prints \"  hello\"\n",
    "print(s_string.center(7))     # Center a string, padding with spaces; prints \" hello \"\n",
    "print(s_string.replace('l', '(ell)'))  # Replace all instances of one substring with another;\n",
    "                                # prints \"he(ell)(ell)o\"\n",
    "print('  world '.strip())  # Strip leading and trailing whitespace; prints \"world\""
   ]
  },
  {
   "cell_type": "code",
   "execution_count": 13,
   "metadata": {
    "collapsed": true
   },
   "outputs": [],
   "source": [
    "#You can find a list of all string methods in the documentation."
   ]
  },
  {
   "cell_type": "code",
   "execution_count": 14,
   "metadata": {
    "collapsed": true
   },
   "outputs": [],
   "source": [
    "#Containers \n",
    "\n",
    "#Python includes several built-in container types: lists, dictionaries, sets, and tuples."
   ]
  },
  {
   "cell_type": "code",
   "execution_count": 15,
   "metadata": {
    "collapsed": true
   },
   "outputs": [],
   "source": [
    "#Lists \n",
    "\n",
    "#A list is the Python equivalent of an array, but is resizeable and can contain elements of different types:"
   ]
  },
  {
   "cell_type": "code",
   "execution_count": 16,
   "metadata": {
    "collapsed": false
   },
   "outputs": [
    {
     "name": "stdout",
     "output_type": "stream",
     "text": [
      "[3, 1, 2] 2\n",
      "2\n",
      "[3, 1, 'foo']\n",
      "[3, 1, 'foo', 'bar']\n",
      "bar [3, 1, 'foo']\n"
     ]
    }
   ],
   "source": [
    "xs_list = [3, 1, 2]    # Create a list\n",
    "print(xs_list, xs_list[2])  # Prints \"[3, 1, 2] 2\"\n",
    "print(xs_list[-1])     # Negative indices count from the end of the list; prints \"2\"\n",
    "xs_list[2] = 'foo'     # Lists can contain elements of different types\n",
    "print(xs_list)         # Prints \"[3, 1, 'foo']\"\n",
    "xs_list.append('bar')  # Add a new element to the end of the list\n",
    "print(xs_list)         # Prints \"[3, 1, 'foo', 'bar']\"\n",
    "x_new = xs_list.pop()      # Remove and return the last element of the list\n",
    "print(x_new, xs_list)      # Prints \"bar [3, 1, 'foo']\""
   ]
  },
  {
   "cell_type": "code",
   "execution_count": 17,
   "metadata": {
    "collapsed": true
   },
   "outputs": [],
   "source": [
    "#As usual, you can find all the gory details about lists in the documentation.\n",
    "\n",
    "#Slicing: In addition to accessing list elements one at a time, Python provides concise syntax to access sublists; \n",
    "#this is known as slicing:"
   ]
  },
  {
   "cell_type": "code",
   "execution_count": 18,
   "metadata": {
    "collapsed": false
   },
   "outputs": [
    {
     "name": "stdout",
     "output_type": "stream",
     "text": [
      "[0, 1, 2, 3, 4]\n",
      "[2, 3]\n",
      "[2, 3, 4]\n",
      "[0, 1]\n",
      "[0, 1, 2, 3, 4]\n",
      "[0, 1, 2, 3]\n",
      "[0, 1, 8, 9, 4]\n"
     ]
    }
   ],
   "source": [
    "nums_range = list(range(5))     # range is a built-in function that creates a list of integers\n",
    "print(nums_range)               # Prints \"[0, 1, 2, 3, 4]\"\n",
    "print(nums_range[2:4])          # Get a slice from index 2 to 4 (exclusive); prints \"[2, 3]\"\n",
    "print(nums_range[2:])           # Get a slice from index 2 to the end; prints \"[2, 3, 4]\"\n",
    "print(nums_range[:2])           # Get a slice from the start to index 2 (exclusive); prints \"[0, 1]\"\n",
    "print(nums_range[:])            # Get a slice of the whole list; prints \"[0, 1, 2, 3, 4]\"\n",
    "print(nums_range[:-1])          # Slice indices can be negative; prints \"[0, 1, 2, 3]\"\n",
    "nums_range[2:4] = [8, 9]        # Assign a new sublist to a slice\n",
    "print(nums_range)               # Prints \"[0, 1, 8, 9, 4]\""
   ]
  },
  {
   "cell_type": "code",
   "execution_count": 19,
   "metadata": {
    "collapsed": true
   },
   "outputs": [],
   "source": [
    "#We will see slicing again in the context of numpy arrays.\n",
    "\n",
    "#Loops: You can loop over the elements of a list like this:"
   ]
  },
  {
   "cell_type": "code",
   "execution_count": 20,
   "metadata": {
    "collapsed": false
   },
   "outputs": [
    {
     "name": "stdout",
     "output_type": "stream",
     "text": [
      "cat\n",
      "dog\n",
      "monkey\n"
     ]
    }
   ],
   "source": [
    "animals_loop = ['cat', 'dog', 'monkey']\n",
    "for animal in animals_loop:\n",
    "    print(animal)\n",
    "# Prints \"cat\", \"dog\", \"monkey\", each on its own line."
   ]
  },
  {
   "cell_type": "code",
   "execution_count": 21,
   "metadata": {
    "collapsed": true
   },
   "outputs": [],
   "source": [
    "#If you want access to the index of each element within the body of a loop, use the built-in enumerate function:"
   ]
  },
  {
   "cell_type": "code",
   "execution_count": 22,
   "metadata": {
    "collapsed": false
   },
   "outputs": [
    {
     "name": "stdout",
     "output_type": "stream",
     "text": [
      "#1: cat\n",
      "#2: dog\n",
      "#3: monkey\n"
     ]
    }
   ],
   "source": [
    "animals_loop = ['cat', 'dog', 'monkey']\n",
    "for idx, animal in enumerate(animals_loop):\n",
    "    print('#%d: %s' % (idx + 1, animal))\n",
    "# Prints \"#1: cat\", \"#2: dog\", \"#3: monkey\", each on its own line"
   ]
  },
  {
   "cell_type": "code",
   "execution_count": 23,
   "metadata": {
    "collapsed": true
   },
   "outputs": [],
   "source": [
    "#List comprehensions: When programming, frequently we want to transform one type of data into another. As a simple \n",
    "#example, consider the following code that computes square numbers:"
   ]
  },
  {
   "cell_type": "code",
   "execution_count": 24,
   "metadata": {
    "collapsed": false
   },
   "outputs": [
    {
     "name": "stdout",
     "output_type": "stream",
     "text": [
      "[0, 1, 4, 9, 16]\n"
     ]
    }
   ],
   "source": [
    "nums_transform = [0, 1, 2, 3, 4]\n",
    "squares_transform = []\n",
    "for x in nums_transform:\n",
    "    squares_transform.append(x ** 2)\n",
    "print(squares_transform)   # Prints [0, 1, 4, 9, 16]"
   ]
  },
  {
   "cell_type": "code",
   "execution_count": 25,
   "metadata": {
    "collapsed": true
   },
   "outputs": [],
   "source": [
    "#You can make this code simpler using a list comprehension:"
   ]
  },
  {
   "cell_type": "code",
   "execution_count": 26,
   "metadata": {
    "collapsed": false
   },
   "outputs": [
    {
     "name": "stdout",
     "output_type": "stream",
     "text": [
      "[0, 1, 4, 9, 16]\n"
     ]
    }
   ],
   "source": [
    "nums_compre = [0, 1, 2, 3, 4]\n",
    "squares_compre = [x ** 2 for x in nums_compre]\n",
    "print(squares_compre)   # Prints [0, 1, 4, 9, 16]"
   ]
  },
  {
   "cell_type": "code",
   "execution_count": 27,
   "metadata": {
    "collapsed": true
   },
   "outputs": [],
   "source": [
    "#List comprehensions can also contain conditions:"
   ]
  },
  {
   "cell_type": "code",
   "execution_count": 28,
   "metadata": {
    "collapsed": false
   },
   "outputs": [
    {
     "name": "stdout",
     "output_type": "stream",
     "text": [
      "[0, 4, 16]\n"
     ]
    }
   ],
   "source": [
    "nums_comprecon = [0, 1, 2, 3, 4]\n",
    "even_squares_comprecon = [x ** 2 for x in nums_comprecon if x % 2 == 0]\n",
    "print(even_squares_comprecon)  # Prints \"[0, 4, 16]\""
   ]
  },
  {
   "cell_type": "code",
   "execution_count": 29,
   "metadata": {
    "collapsed": true
   },
   "outputs": [],
   "source": [
    "#Dictionaries \n",
    "\n",
    "#A dictionary stores (key, value) pairs, similar to a Map in Java or an object in Javascript. \n",
    "#You can use it like this:"
   ]
  },
  {
   "cell_type": "code",
   "execution_count": 30,
   "metadata": {
    "collapsed": false
   },
   "outputs": [
    {
     "name": "stdout",
     "output_type": "stream",
     "text": [
      "cute\n",
      "True\n",
      "wet\n",
      "N/A\n",
      "wet\n",
      "N/A\n"
     ]
    }
   ],
   "source": [
    "d_dict = {'cat': 'cute', 'dog': 'furry'}  # Create a new dictionary with some data\n",
    "print(d_dict['cat'])       # Get an entry from a dictionary; prints \"cute\"\n",
    "print('cat' in d_dict)     # Check if a dictionary has a given key; prints \"True\"\n",
    "d_dict['fish'] = 'wet'     # Set an entry in a dictionary\n",
    "print(d_dict['fish'])      # Prints \"wet\"\n",
    "# print(d_dict['monkey'])  # KeyError: 'monkey' not a key of d\n",
    "print(d_dict.get('monkey', 'N/A'))  # Get an element with a default; prints \"N/A\"\n",
    "print(d_dict.get('fish', 'N/A'))    # Get an element with a default; prints \"wet\"\n",
    "del d_dict['fish']         # Remove an element from a dictionary\n",
    "print(d_dict.get('fish', 'N/A')) # \"fish\" is no longer a key; prints \"N/A\""
   ]
  },
  {
   "cell_type": "code",
   "execution_count": 31,
   "metadata": {
    "collapsed": true
   },
   "outputs": [],
   "source": [
    "#You can find all you need to know about dictionaries in the documentation."
   ]
  },
  {
   "cell_type": "code",
   "execution_count": 32,
   "metadata": {
    "collapsed": true
   },
   "outputs": [],
   "source": [
    "#Loops: It is easy to iterate over the keys in a dictionary:"
   ]
  },
  {
   "cell_type": "code",
   "execution_count": 33,
   "metadata": {
    "collapsed": false
   },
   "outputs": [
    {
     "name": "stdout",
     "output_type": "stream",
     "text": [
      "A person has 2 legs\n",
      "A cat has 4 legs\n",
      "A spider has 8 legs\n"
     ]
    }
   ],
   "source": [
    "d_loop = {'person': 2, 'cat': 4, 'spider': 8}\n",
    "for animal_loop in d_loop:\n",
    "    legs_loop = d_loop[animal_loop]\n",
    "    print('A %s has %d legs' % (animal_loop, legs_loop))\n",
    "# Prints \"A person has 2 legs\", \"A cat has 4 legs\", \"A spider has 8 legs\""
   ]
  },
  {
   "cell_type": "code",
   "execution_count": 34,
   "metadata": {
    "collapsed": true
   },
   "outputs": [],
   "source": [
    "#If you want access to keys and their corresponding values, use the items method:"
   ]
  },
  {
   "cell_type": "code",
   "execution_count": 35,
   "metadata": {
    "collapsed": false
   },
   "outputs": [
    {
     "name": "stdout",
     "output_type": "stream",
     "text": [
      "A person has 2 legs\n",
      "A cat has 4 legs\n",
      "A spider has 8 legs\n"
     ]
    }
   ],
   "source": [
    "d_loop = {'person': 2, 'cat': 4, 'spider': 8}\n",
    "for animal_loop, legs_loop in d_loop.items():\n",
    "    print('A %s has %d legs' % (animal_loop, legs_loop))\n",
    "# Prints \"A person has 2 legs\", \"A cat has 4 legs\", \"A spider has 8 legs\""
   ]
  },
  {
   "cell_type": "code",
   "execution_count": 36,
   "metadata": {
    "collapsed": true
   },
   "outputs": [],
   "source": [
    "#Dictionary comprehensions: These are similar to list comprehensions, but allow you to easily construct dictionaries. \n",
    "#For example:"
   ]
  },
  {
   "cell_type": "code",
   "execution_count": 37,
   "metadata": {
    "collapsed": false
   },
   "outputs": [
    {
     "name": "stdout",
     "output_type": "stream",
     "text": [
      "{0: 0, 2: 4, 4: 16}\n"
     ]
    }
   ],
   "source": [
    "nums_diccom = [0, 1, 2, 3, 4]\n",
    "even_num_to_square_com = {x: x ** 2 for x in nums_diccom if x % 2 == 0}\n",
    "print(even_num_to_square_com)  # Prints \"{0: 0, 2: 4, 4: 16}\""
   ]
  },
  {
   "cell_type": "code",
   "execution_count": 38,
   "metadata": {
    "collapsed": true
   },
   "outputs": [],
   "source": [
    "#Sets \n",
    "\n",
    "#A set is an unordered collection of distinct elements. As a simple example, consider the following:"
   ]
  },
  {
   "cell_type": "code",
   "execution_count": 39,
   "metadata": {
    "collapsed": false
   },
   "outputs": [
    {
     "name": "stdout",
     "output_type": "stream",
     "text": [
      "True\n",
      "False\n",
      "True\n",
      "3\n",
      "3\n",
      "2\n"
     ]
    }
   ],
   "source": [
    "animals_set = {'cat', 'dog'}\n",
    "print('cat' in animals_set)   # Check if an element is in a set; prints \"True\"\n",
    "print('fish' in animals_set)  # prints \"False\"\n",
    "animals_set.add('fish')       # Add an element to a set\n",
    "print('fish' in animals_set)  # Prints \"True\"\n",
    "print(len(animals_set))       # Number of elements in a set; prints \"3\"\n",
    "animals_set.add('cat')        # Adding an element that is already in the set does nothing\n",
    "print(len(animals_set))       # Prints \"3\"\n",
    "animals_set.remove('cat')     # Remove an element from a set\n",
    "print(len(animals_set))       # Prints \"2\""
   ]
  },
  {
   "cell_type": "code",
   "execution_count": 40,
   "metadata": {
    "collapsed": true
   },
   "outputs": [],
   "source": [
    "#As usual, everything you want to know about sets can be found in the documentation.\n",
    "\n",
    "#Loops: Iterating over a set has the same syntax as iterating over a list; however since sets are unordered, \n",
    "#you cannot make assumptions about the order in which you visit the elements of the set:"
   ]
  },
  {
   "cell_type": "code",
   "execution_count": 41,
   "metadata": {
    "collapsed": false
   },
   "outputs": [
    {
     "name": "stdout",
     "output_type": "stream",
     "text": [
      "#1: cat\n",
      "#2: dog\n",
      "#3: fish\n"
     ]
    }
   ],
   "source": [
    "animals_enumiter = {'cat', 'dog', 'fish'}\n",
    "for idx, animal in enumerate(animals_enumiter):\n",
    "    print('#%d: %s' % (idx + 1, animal))\n",
    "# Prints \"#1: fish\", \"#2: dog\", \"#3: cat\""
   ]
  },
  {
   "cell_type": "code",
   "execution_count": 42,
   "metadata": {
    "collapsed": true
   },
   "outputs": [],
   "source": [
    "#Set comprehensions: Like lists and dictionaries, we can easily construct sets using set comprehensions:"
   ]
  },
  {
   "cell_type": "code",
   "execution_count": 43,
   "metadata": {
    "collapsed": false
   },
   "outputs": [
    {
     "name": "stdout",
     "output_type": "stream",
     "text": [
      "{0, 1, 2, 3, 4, 5}\n"
     ]
    }
   ],
   "source": [
    "from math import sqrt\n",
    "nums_setcom = {int(sqrt(x)) for x in range(30)}\n",
    "print(nums_setcom)  # Prints \"{0, 1, 2, 3, 4, 5}\""
   ]
  },
  {
   "cell_type": "code",
   "execution_count": 44,
   "metadata": {
    "collapsed": true
   },
   "outputs": [],
   "source": [
    "#Tuples \n",
    "\n",
    "#A tuple is an (immutable) ordered list of values. A tuple is in many ways similar to a list; one of the most important \n",
    "#differences is that tuples can be used as keys in dictionaries and as elements of sets, while lists cannot. \n",
    "#Here is a trivial example:"
   ]
  },
  {
   "cell_type": "code",
   "execution_count": 45,
   "metadata": {
    "collapsed": false
   },
   "outputs": [
    {
     "name": "stdout",
     "output_type": "stream",
     "text": [
      "<class 'tuple'>\n",
      "5\n",
      "1\n"
     ]
    }
   ],
   "source": [
    "d_tup = {(x, x + 1): x for x in range(10)}  # Create a dictionary with tuple keys\n",
    "t_tup = (5, 6)        # Create a tuple\n",
    "print(type(t_tup))    # Prints \"<class 'tuple'>\"\n",
    "print(d_tup[t_tup])       # Prints \"5\"\n",
    "print(d_tup[(1, 2)])  # Prints \"1\""
   ]
  },
  {
   "cell_type": "code",
   "execution_count": 46,
   "metadata": {
    "collapsed": true
   },
   "outputs": [],
   "source": [
    "#Functions \n",
    "\n",
    "#Python functions are defined using the def keyword. For example:"
   ]
  },
  {
   "cell_type": "code",
   "execution_count": 47,
   "metadata": {
    "collapsed": false
   },
   "outputs": [
    {
     "name": "stdout",
     "output_type": "stream",
     "text": [
      "negative\n",
      "zero\n",
      "positive\n"
     ]
    }
   ],
   "source": [
    "def sign(x_fun):\n",
    "    if x_fun > 0:\n",
    "        return 'positive'\n",
    "    elif x_fun < 0:\n",
    "        return 'negative'\n",
    "    else:\n",
    "        return 'zero'\n",
    "\n",
    "for x_fun in [-1, 0, 1]:\n",
    "    print(sign(x_fun))\n",
    "# Prints \"negative\", \"zero\", \"positive\""
   ]
  },
  {
   "cell_type": "code",
   "execution_count": 48,
   "metadata": {
    "collapsed": true
   },
   "outputs": [],
   "source": [
    "#We will often define functions to take optional keyword arguments, like this:"
   ]
  },
  {
   "cell_type": "code",
   "execution_count": 49,
   "metadata": {
    "collapsed": false
   },
   "outputs": [
    {
     "name": "stdout",
     "output_type": "stream",
     "text": [
      "Hello, Bob\n",
      "HELLO, FRED!\n"
     ]
    }
   ],
   "source": [
    "def hello(name_mandatory, loud_optional=False):\n",
    "    if loud_optional:\n",
    "        print('HELLO, %s!' % name_mandatory.upper())\n",
    "    else:\n",
    "        print('Hello, %s' % name_mandatory)\n",
    "\n",
    "hello('Bob') # Prints \"Hello, Bob\"\n",
    "hello('Fred', loud_optional=True)  # Prints \"HELLO, FRED!\""
   ]
  },
  {
   "cell_type": "code",
   "execution_count": 50,
   "metadata": {
    "collapsed": true
   },
   "outputs": [],
   "source": [
    "#Classes\n",
    "\n",
    "#The syntax for defining classes in Python is straightforward:"
   ]
  },
  {
   "cell_type": "code",
   "execution_count": 51,
   "metadata": {
    "collapsed": false
   },
   "outputs": [
    {
     "name": "stdout",
     "output_type": "stream",
     "text": [
      "Hello, Fred\n",
      "HELLO, FRED!\n"
     ]
    }
   ],
   "source": [
    "class Greeter(object):\n",
    "\n",
    "    # Constructor\n",
    "    def __init__(self, name_input):\n",
    "        self.name_input = name_input  # Create an instance variable\n",
    "\n",
    "    # Instance method\n",
    "    def greet(self, loud_optional=False):\n",
    "        if loud_optional:\n",
    "            print('HELLO, %s!' % self.name_input.upper())\n",
    "        else:\n",
    "            print('Hello, %s' % self.name_input)\n",
    "\n",
    "g = Greeter('Fred')  # Construct an instance of the Greeter class\n",
    "g.greet()            # Call an instance method; prints \"Hello, Fred\"\n",
    "g.greet(loud_optional=True)   # Call an instance method; prints \"HELLO, FRED!\""
   ]
  },
  {
   "cell_type": "code",
   "execution_count": 52,
   "metadata": {
    "collapsed": true
   },
   "outputs": [],
   "source": [
    "#Numpy \n",
    "\n",
    "#Numpy is the core library for scientific computing in Python. It provides a high-performance multidimensional array \n",
    "#object,and tools for working with these arrays. If you are already familiar with MATLAB, you might find this tutorial \n",
    "#useful to get started with Numpy.\n",
    "\n",
    "#Arrays \n",
    "\n",
    "#A numpy array is a grid of values, all of the same type, and is indexed by a tuple of nonnegative integers. \n",
    "#The number of dimensions is the rank of the array; the shape of an array is a tuple of integers giving the size of \n",
    "#the array along each dimension.\n",
    "\n",
    "#We can initialize numpy arrays from nested Python lists, and access elements using square brackets:"
   ]
  },
  {
   "cell_type": "code",
   "execution_count": 53,
   "metadata": {
    "collapsed": false
   },
   "outputs": [
    {
     "name": "stdout",
     "output_type": "stream",
     "text": [
      "<class 'numpy.ndarray'>\n",
      "(3,)\n",
      "1 2 3\n",
      "[5 2 3]\n",
      "(2, 3)\n",
      "1 2 4\n"
     ]
    }
   ],
   "source": [
    "import numpy as np\n",
    "\n",
    "a_np = np.array([1, 2, 3])   # Create a rank 1 array\n",
    "print(type(a_np))            # Prints \"<class 'numpy.ndarray'>\"\n",
    "print(a_np.shape)            # Prints \"(3,)\"\n",
    "print(a_np[0], a_np[1], a_np[2])   # Prints \"1 2 3\"\n",
    "a_np[0] = 5                  # Change an element of the array\n",
    "print(a_np)                  # Prints \"[5, 2, 3]\"\n",
    "\n",
    "b_np = np.array([[1,2,3],[4,5,6]])    # Create a rank 2 array\n",
    "print(b_np.shape)                     # Prints \"(2, 3)\"\n",
    "print(b_np[0, 0], b_np[0, 1], b_np[1, 0])   # Prints \"1 2 4\""
   ]
  },
  {
   "cell_type": "code",
   "execution_count": 54,
   "metadata": {
    "collapsed": true
   },
   "outputs": [],
   "source": [
    "#Numpy also provides many functions to create arrays:"
   ]
  },
  {
   "cell_type": "code",
   "execution_count": 55,
   "metadata": {
    "collapsed": false
   },
   "outputs": [
    {
     "name": "stdout",
     "output_type": "stream",
     "text": [
      "[[ 0.  0.]\n",
      " [ 0.  0.]]\n",
      "[[ 1.  1.]]\n",
      "[[7 7]\n",
      " [7 7]]\n",
      "[[ 1.  0.]\n",
      " [ 0.  1.]]\n",
      "[[ 0.19194447  0.16543892]\n",
      " [ 0.54076931  0.68575993]]\n"
     ]
    }
   ],
   "source": [
    "import numpy as np\n",
    "\n",
    "a_nparray = np.zeros((2,2))   # Create an array of all zeros\n",
    "print(a_nparray)              # Prints \"[[ 0.  0.]\n",
    "                      #          [ 0.  0.]]\"\n",
    "\n",
    "b_nparray = np.ones((1,2))    # Create an array of all ones\n",
    "print(b_nparray)              # Prints \"[[ 1.  1.]]\"\n",
    "\n",
    "c_nparray = np.full((2,2), 7)  # Create a constant array\n",
    "print(c_nparray)               # Prints \"[[ 7.  7.]\n",
    "                       #          [ 7.  7.]]\"\n",
    "\n",
    "d_nparray = np.eye(2)         # Create a 2x2 identity matrix\n",
    "print(d_nparray)              # Prints \"[[ 1.  0.]\n",
    "                      #          [ 0.  1.]]\"\n",
    "\n",
    "e_nparray = np.random.random((2,2))  # Create an array filled with random values\n",
    "print(e_nparray)                     # Might print \"[[ 0.91940167  0.08143941]\n",
    "                             #               [ 0.68744134  0.87236687]]\""
   ]
  },
  {
   "cell_type": "code",
   "execution_count": 56,
   "metadata": {
    "collapsed": true
   },
   "outputs": [],
   "source": [
    "#Array indexing \n",
    "\n",
    "#Numpy offers several ways to index into arrays.\n",
    "\n",
    "#Slicing: Similar to Python lists, numpy arrays can be sliced. Since arrays may be multidimensional, you must \n",
    "#specify a slice for each dimension of the array:"
   ]
  },
  {
   "cell_type": "code",
   "execution_count": 57,
   "metadata": {
    "collapsed": false
   },
   "outputs": [
    {
     "name": "stdout",
     "output_type": "stream",
     "text": [
      "2\n",
      "77\n"
     ]
    }
   ],
   "source": [
    "import numpy as np\n",
    "\n",
    "# Create the following rank 2 array with shape (3, 4)\n",
    "# [[ 1  2  3  4]\n",
    "#  [ 5  6  7  8]\n",
    "#  [ 9 10 11 12]]\n",
    "a_array2D = np.array([[1,2,3,4], [5,6,7,8], [9,10,11,12]])\n",
    "\n",
    "# Use slicing to pull out the subarray consisting of the first 2 rows\n",
    "# and columns 1 and 2; b is the following array of shape (2, 2):\n",
    "# [[2 3]\n",
    "#  [6 7]]\n",
    "b_array2D = a_array2D[:2, 1:3]\n",
    "\n",
    "# A slice of an array is a view into the same data, so modifying it\n",
    "# will modify the original array.\n",
    "print(a_array2D[0, 1])   # Prints \"2\"\n",
    "b_array2D[0, 0] = 77     # b[0, 0] is the same piece of data as a[0, 1]\n",
    "print(a_array2D[0, 1])   # Prints \"77\""
   ]
  },
  {
   "cell_type": "code",
   "execution_count": 58,
   "metadata": {
    "collapsed": true
   },
   "outputs": [],
   "source": [
    "#You can also mix integer indexing with slice indexing. However, doing so will yield an array of lower rank than the \n",
    "#original array. Note that this is quite different from the way that MATLAB handles array slicing:"
   ]
  },
  {
   "cell_type": "code",
   "execution_count": 59,
   "metadata": {
    "collapsed": false
   },
   "outputs": [
    {
     "name": "stdout",
     "output_type": "stream",
     "text": [
      "[5 6 7 8] (4,)\n",
      "[[5 6 7 8]] (1, 4)\n",
      "[ 2  6 10] (3,)\n",
      "[[ 2]\n",
      " [ 6]\n",
      " [10]] (3, 1)\n"
     ]
    }
   ],
   "source": [
    "import numpy as np\n",
    "\n",
    "# Create the following rank 2 array with shape (3, 4)\n",
    "# [[ 1  2  3  4]\n",
    "#  [ 5  6  7  8]\n",
    "#  [ 9 10 11 12]]\n",
    "a_2D = np.array([[1,2,3,4], [5,6,7,8], [9,10,11,12]])\n",
    "\n",
    "# Two ways of accessing the data in the middle row of the array.\n",
    "# Mixing integer indexing with slices yields an array of lower rank,\n",
    "# while using only slices yields an array of the same rank as the\n",
    "# original array:\n",
    "row_r1_2D = a_2D[1, :]    # Rank 1 view of the second row of a\n",
    "row_r2_2D = a_2D[1:2, :]  # Rank 2 view of the second row of a\n",
    "print(row_r1_2D, row_r1_2D.shape)  # Prints \"[5 6 7 8] (4,)\"\n",
    "print(row_r2_2D, row_r2_2D.shape)  # Prints \"[[5 6 7 8]] (1, 4)\"\n",
    "\n",
    "# We can make the same distinction when accessing columns of an array:\n",
    "col_r1_2D = a_2D[:, 1]\n",
    "col_r2_2D = a_2D[:, 1:2]\n",
    "print(col_r1_2D, col_r1_2D.shape)  # Prints \"[ 2  6 10] (3,)\"\n",
    "print(col_r2_2D, col_r2_2D.shape)  # Prints \"[[ 2]\n",
    "                             #          [ 6]\n",
    "                             #          [10]] (3, 1)\""
   ]
  },
  {
   "cell_type": "code",
   "execution_count": 60,
   "metadata": {
    "collapsed": true
   },
   "outputs": [],
   "source": [
    "#Integer array indexing: When you index into numpy arrays using slicing, the resulting array view will always be a \n",
    "#subarray of the original array. In contrast, integer array indexing allows you to construct arbitrary arrays using the \n",
    "#data from another array. Here is an example:"
   ]
  },
  {
   "cell_type": "code",
   "execution_count": 61,
   "metadata": {
    "collapsed": false
   },
   "outputs": [
    {
     "name": "stdout",
     "output_type": "stream",
     "text": [
      "[1 4 5]\n",
      "[1 4 5]\n",
      "[2 2]\n",
      "[2 2]\n"
     ]
    }
   ],
   "source": [
    "import numpy as np\n",
    "\n",
    "a_array = np.array([[1,2], [3, 4], [5, 6]])\n",
    "\n",
    "# An example of integer array indexing.\n",
    "# The returned array will have shape (3,) and\n",
    "print(a_array[[0, 1, 2], [0, 1, 0]])  # Prints \"[1 4 5]\"\n",
    "\n",
    "# The above example of integer array indexing is equivalent to this:\n",
    "print(np.array([a_array[0, 0], a_array[1, 1], a_array[2, 0]]))  # Prints \"[1 4 5]\"\n",
    "\n",
    "# When using integer array indexing, you can reuse the same\n",
    "# element from the source array:\n",
    "print(a_array[[0, 0], [1, 1]])  # Prints \"[2 2]\"\n",
    "\n",
    "# Equivalent to the previous integer array indexing example\n",
    "print(np.array([a_array[0, 1], a_array[0, 1]]))  # Prints \"[2 2]\""
   ]
  },
  {
   "cell_type": "code",
   "execution_count": 62,
   "metadata": {
    "collapsed": true
   },
   "outputs": [],
   "source": [
    "#One useful trick with integer array indexing is selecting or mutating one element from each row of a matrix:"
   ]
  },
  {
   "cell_type": "code",
   "execution_count": 66,
   "metadata": {
    "collapsed": false
   },
   "outputs": [
    {
     "name": "stdout",
     "output_type": "stream",
     "text": [
      "[[ 1  2  3]\n",
      " [ 4  5  6]\n",
      " [ 7  8  9]\n",
      " [10 11 12]]\n",
      "[ 1  6  7 11]\n",
      "[[11  2  3]\n",
      " [ 4  5 16]\n",
      " [17  8  9]\n",
      " [10 21 12]]\n"
     ]
    }
   ],
   "source": [
    "import numpy as np\n",
    "\n",
    "# Create a new array from which we will select elements\n",
    "a_2Darray = np.array([[1,2,3], [4,5,6], [7,8,9], [10, 11, 12]])\n",
    "\n",
    "print(a_2Darray)  # prints \"array([[ 1,  2,  3],\n",
    "          #                [ 4,  5,  6],\n",
    "          #                [ 7,  8,  9],\n",
    "          #                [10, 11, 12]])\"\n",
    "\n",
    "# Create an array of indices\n",
    "b_2Darray = np.array([0, 2, 0, 1])\n",
    "\n",
    "# Select one element from each row of a using the indices in b\n",
    "print(a_2Darray[np.arange(4), b_2Darray])  # Prints \"[ 1  6  7 11]\"\n",
    "\n",
    "# Mutate one element from each row of a using the indices in b\n",
    "a_2Darray[np.arange(4), b_2Darray] += 10\n",
    "\n",
    "print(a_2Darray)  # prints \"array([[11,  2,  3],\n",
    "          #                [ 4,  5, 16],\n",
    "          #                [17,  8,  9],\n",
    "          #                [10, 21, 12]])"
   ]
  },
  {
   "cell_type": "code",
   "execution_count": 67,
   "metadata": {
    "collapsed": true
   },
   "outputs": [],
   "source": [
    "#Boolean array indexing: Boolean array indexing lets you pick out arbitrary elements of an array. Frequently this type \n",
    "#of indexing is used to select the elements of an array that satisfy some condition. Here is an example:"
   ]
  },
  {
   "cell_type": "code",
   "execution_count": 68,
   "metadata": {
    "collapsed": false
   },
   "outputs": [
    {
     "name": "stdout",
     "output_type": "stream",
     "text": [
      "[[False False]\n",
      " [ True  True]\n",
      " [ True  True]]\n",
      "[3 4 5 6]\n",
      "[3 4 5 6]\n"
     ]
    }
   ],
   "source": [
    "import numpy as np\n",
    "\n",
    "a_index = np.array([[1,2], [3, 4], [5, 6]])\n",
    "\n",
    "bool_idx_index = (a_index > 2)   # Find the elements of a that are bigger than 2;\n",
    "                     # this returns a numpy array of Booleans of the same\n",
    "                     # shape as a, where each slot of bool_idx tells\n",
    "                     # whether that element of a is > 2.\n",
    "\n",
    "print(bool_idx_index)      # Prints \"[[False False]\n",
    "                     #          [ True  True]\n",
    "                     #          [ True  True]]\"\n",
    "\n",
    "# We use boolean array indexing to construct a rank 1 array\n",
    "# consisting of the elements of a corresponding to the True values\n",
    "# of bool_idx\n",
    "print(a_index[bool_idx_index])  # Prints \"[3 4 5 6]\"\n",
    "\n",
    "# We can do all of the above in a single concise statement:\n",
    "print(a_index[a_index > 2])     # Prints \"[3 4 5 6]\""
   ]
  },
  {
   "cell_type": "code",
   "execution_count": 69,
   "metadata": {
    "collapsed": true
   },
   "outputs": [],
   "source": [
    "#Datatypes \n",
    "\n",
    "#Every numpy array is a grid of elements of the same type. Numpy provides a large set of numeric datatypes that \n",
    "#you can use to construct arrays. Numpy tries to guess a datatype when you create an array, but functions that \n",
    "#construct arrays usually also include an optional argument to explicitly specify the datatype. Here is an example:"
   ]
  },
  {
   "cell_type": "code",
   "execution_count": 70,
   "metadata": {
    "collapsed": false
   },
   "outputs": [
    {
     "name": "stdout",
     "output_type": "stream",
     "text": [
      "int32\n",
      "float64\n",
      "int64\n"
     ]
    }
   ],
   "source": [
    "import numpy as np\n",
    "\n",
    "x_datatype = np.array([1, 2])   # Let numpy choose the datatype\n",
    "print(x_datatype.dtype)         # Prints \"int64\"\n",
    "\n",
    "x_datatype = np.array([1.0, 2.0])   # Let numpy choose the datatype\n",
    "print(x_datatype.dtype)             # Prints \"float64\"\n",
    "\n",
    "x_datatype = np.array([1, 2], dtype=np.int64)   # Force a particular datatype\n",
    "print(x_datatype.dtype)                         # Prints \"int64\""
   ]
  },
  {
   "cell_type": "code",
   "execution_count": 71,
   "metadata": {
    "collapsed": true
   },
   "outputs": [],
   "source": [
    "#Array math \n",
    "\n",
    "#Basic mathematical functions operate elementwise on arrays, and are available both as operator overloads and as \n",
    "#functions in the numpy module:"
   ]
  },
  {
   "cell_type": "code",
   "execution_count": 72,
   "metadata": {
    "collapsed": false
   },
   "outputs": [
    {
     "name": "stdout",
     "output_type": "stream",
     "text": [
      "[[  6.   8.]\n",
      " [ 10.  12.]]\n",
      "[[  6.   8.]\n",
      " [ 10.  12.]]\n",
      "[[-4. -4.]\n",
      " [-4. -4.]]\n",
      "[[-4. -4.]\n",
      " [-4. -4.]]\n",
      "[[  5.  12.]\n",
      " [ 21.  32.]]\n",
      "[[  5.  12.]\n",
      " [ 21.  32.]]\n",
      "[[ 0.2         0.33333333]\n",
      " [ 0.42857143  0.5       ]]\n",
      "[[ 0.2         0.33333333]\n",
      " [ 0.42857143  0.5       ]]\n",
      "[[ 1.          1.41421356]\n",
      " [ 1.73205081  2.        ]]\n"
     ]
    }
   ],
   "source": [
    "import numpy as np\n",
    "\n",
    "x_math = np.array([[1,2],[3,4]], dtype=np.float64)\n",
    "y_math = np.array([[5,6],[7,8]], dtype=np.float64)\n",
    "\n",
    "# Elementwise sum; both produce the array\n",
    "# [[ 6.0  8.0]\n",
    "#  [10.0 12.0]]\n",
    "print(x_math + y_math)\n",
    "print(np.add(x_math, y_math))\n",
    "\n",
    "# Elementwise difference; both produce the array\n",
    "# [[-4.0 -4.0]\n",
    "#  [-4.0 -4.0]]\n",
    "print(x_math - y_math)\n",
    "print(np.subtract(x_math, y_math))\n",
    "\n",
    "# Elementwise product; both produce the array\n",
    "# [[ 5.0 12.0]\n",
    "#  [21.0 32.0]]\n",
    "print(x_math * y_math)\n",
    "print(np.multiply(x_math, y_math))\n",
    "\n",
    "# Elementwise division; both produce the array\n",
    "# [[ 0.2         0.33333333]\n",
    "#  [ 0.42857143  0.5       ]]\n",
    "print(x_math / y_math)\n",
    "print(np.divide(x_math, y_math))\n",
    "\n",
    "# Elementwise square root; produces the array\n",
    "# [[ 1.          1.41421356]\n",
    "#  [ 1.73205081  2.        ]]\n",
    "print(np.sqrt(x_math))"
   ]
  },
  {
   "cell_type": "code",
   "execution_count": 73,
   "metadata": {
    "collapsed": true
   },
   "outputs": [],
   "source": [
    "#Note that unlike MATLAB, * is elementwise multiplication, not matrix multiplication. We instead use the dot function \n",
    "#to compute inner products of vectors, to multiply a vector by a matrix, and to multiply matrices. dot is available \n",
    "#both as a function in the numpy module and as an instance method of array objects:"
   ]
  },
  {
   "cell_type": "code",
   "execution_count": 74,
   "metadata": {
    "collapsed": false
   },
   "outputs": [
    {
     "name": "stdout",
     "output_type": "stream",
     "text": [
      "219\n",
      "219\n",
      "[29 67]\n",
      "[29 67]\n",
      "[[19 22]\n",
      " [43 50]]\n",
      "[[19 22]\n",
      " [43 50]]\n"
     ]
    }
   ],
   "source": [
    "import numpy as np\n",
    "\n",
    "x_mul = np.array([[1,2],[3,4]])\n",
    "y_mul = np.array([[5,6],[7,8]])\n",
    "\n",
    "v_mul = np.array([9,10])\n",
    "w_mul = np.array([11, 12])\n",
    "\n",
    "# Inner product of vectors; both produce 219\n",
    "print(v_mul.dot(w_mul))\n",
    "print(np.dot(v_mul, w_mul))\n",
    "\n",
    "# Matrix / vector product; both produce the rank 1 array [29 67]\n",
    "print(x_mul.dot(v_mul))\n",
    "print(np.dot(x_mul, v_mul))\n",
    "\n",
    "# Matrix / matrix product; both produce the rank 2 array\n",
    "# [[19 22]\n",
    "#  [43 50]]\n",
    "print(x_mul.dot(y_mul))\n",
    "print(np.dot(x_mul, y_mul))"
   ]
  },
  {
   "cell_type": "code",
   "execution_count": 75,
   "metadata": {
    "collapsed": true
   },
   "outputs": [],
   "source": [
    "#Numpy provides many useful functions for performing computations on arrays; one of the most useful is sum:"
   ]
  },
  {
   "cell_type": "code",
   "execution_count": 76,
   "metadata": {
    "collapsed": false
   },
   "outputs": [
    {
     "name": "stdout",
     "output_type": "stream",
     "text": [
      "10\n",
      "[4 6]\n",
      "[3 7]\n"
     ]
    }
   ],
   "source": [
    "import numpy as np\n",
    "\n",
    "x_sumoperation = np.array([[1,2],[3,4]])\n",
    "\n",
    "print(np.sum(x_sumoperation))  # Compute sum of all elements; prints \"10\"\n",
    "print(np.sum(x_sumoperation, axis=0))  # Compute sum of each column; prints \"[4 6]\"\n",
    "print(np.sum(x_sumoperation, axis=1))  # Compute sum of each row; prints \"[3 7]\""
   ]
  },
  {
   "cell_type": "code",
   "execution_count": 77,
   "metadata": {
    "collapsed": true
   },
   "outputs": [],
   "source": [
    "#Apart from computing mathematical functions using arrays, we frequently need to reshape or otherwise manipulate data \n",
    "#in arrays. The simplest example of this type of operation is transposing a matrix; to transpose a matrix, simply use \n",
    "#the T attribute of an array object:"
   ]
  },
  {
   "cell_type": "code",
   "execution_count": 78,
   "metadata": {
    "collapsed": false
   },
   "outputs": [
    {
     "name": "stdout",
     "output_type": "stream",
     "text": [
      "[[1 2]\n",
      " [3 4]]\n",
      "[[1 3]\n",
      " [2 4]]\n",
      "[1 2 3]\n",
      "[1 2 3]\n"
     ]
    }
   ],
   "source": [
    "import numpy as np\n",
    "\n",
    "x_tran = np.array([[1,2], [3,4]])\n",
    "print(x_tran)    # Prints \"[[1 2]\n",
    "            #          [3 4]]\"\n",
    "print(x_tran.T)  # Prints \"[[1 3]\n",
    "            #          [2 4]]\"\n",
    "\n",
    "# Note that taking the transpose of a rank 1 array does nothing:\n",
    "v_tran = np.array([1,2,3])\n",
    "print(v_tran)    # Prints \"[1 2 3]\"\n",
    "print(v_tran.T)  # Prints \"[1 2 3]\""
   ]
  },
  {
   "cell_type": "code",
   "execution_count": 79,
   "metadata": {
    "collapsed": true
   },
   "outputs": [],
   "source": [
    "#Broadcasting \n",
    "\n",
    "#Broadcasting is a powerful mechanism that allows numpy to work with arrays of different shapes when performing \n",
    "#arithmetic operations. Frequently we have a smaller array and a larger array, and we want to use the smaller array \n",
    "#multiple times to perform some operation on the larger array.\n",
    "\n",
    "#For example, suppose that we want to add a constant vector to each row of a matrix. We could do it like this:"
   ]
  },
  {
   "cell_type": "code",
   "execution_count": 80,
   "metadata": {
    "collapsed": false
   },
   "outputs": [
    {
     "name": "stdout",
     "output_type": "stream",
     "text": [
      "[[ 2  2  4]\n",
      " [ 5  5  7]\n",
      " [ 8  8 10]\n",
      " [11 11 13]]\n"
     ]
    }
   ],
   "source": [
    "import numpy as np\n",
    "\n",
    "# We will add the vector v to each row of the matrix x,\n",
    "# storing the result in the matrix y\n",
    "x_bc = np.array([[1,2,3], [4,5,6], [7,8,9], [10, 11, 12]])\n",
    "v_bc = np.array([1, 0, 1])\n",
    "y_bc = np.empty_like(x_bc)   # Create an empty matrix with the same shape as x\n",
    "\n",
    "# Add the vector v to each row of the matrix x with an explicit loop\n",
    "for i in range(4):\n",
    "    y_bc[i, :] = x_bc[i, :] + v_bc\n",
    "\n",
    "# Now y is the following\n",
    "# [[ 2  2  4]\n",
    "#  [ 5  5  7]\n",
    "#  [ 8  8 10]\n",
    "#  [11 11 13]]\n",
    "print(y_bc)"
   ]
  },
  {
   "cell_type": "code",
   "execution_count": 81,
   "metadata": {
    "collapsed": true
   },
   "outputs": [],
   "source": [
    "#This works; however when the matrix x is very large, computing an explicit loop in Python could be slow. \n",
    "#Note that adding the vector v to each row of the matrix x is equivalent to forming a matrix vv by stacking \n",
    "#multiple copies of v vertically, then performing elementwise summation of x and vv. We could implement this \n",
    "#approach like this:"
   ]
  },
  {
   "cell_type": "code",
   "execution_count": 82,
   "metadata": {
    "collapsed": false
   },
   "outputs": [
    {
     "name": "stdout",
     "output_type": "stream",
     "text": [
      "[[1 0 1]\n",
      " [1 0 1]\n",
      " [1 0 1]\n",
      " [1 0 1]]\n",
      "[[ 2  2  4]\n",
      " [ 5  5  7]\n",
      " [ 8  8 10]\n",
      " [11 11 13]]\n"
     ]
    }
   ],
   "source": [
    "import numpy as np\n",
    "\n",
    "# We will add the vector v to each row of the matrix x,\n",
    "# storing the result in the matrix y\n",
    "x_expl = np.array([[1,2,3], [4,5,6], [7,8,9], [10, 11, 12]])\n",
    "v_expl = np.array([1, 0, 1])\n",
    "vv_expl = np.tile(v_expl, (4, 1))   # Stack 4 copies of v on top of each other\n",
    "print(vv_expl)                 # Prints \"[[1 0 1]\n",
    "                          #          [1 0 1]\n",
    "                          #          [1 0 1]\n",
    "                          #          [1 0 1]]\"\n",
    "y_expl = x_expl + vv_expl  # Add x and vv elementwise\n",
    "print(y_expl)  # Prints \"[[ 2  2  4\n",
    "          #          [ 5  5  7]\n",
    "          #          [ 8  8 10]\n",
    "          #          [11 11 13]]\""
   ]
  },
  {
   "cell_type": "code",
   "execution_count": 83,
   "metadata": {
    "collapsed": true
   },
   "outputs": [],
   "source": [
    "#Numpy broadcasting allows us to perform this computation without actually creating multiple copies of v. \n",
    "#Consider this version, using broadcasting:"
   ]
  },
  {
   "cell_type": "code",
   "execution_count": 84,
   "metadata": {
    "collapsed": false
   },
   "outputs": [
    {
     "name": "stdout",
     "output_type": "stream",
     "text": [
      "[[ 2  2  4]\n",
      " [ 5  5  7]\n",
      " [ 8  8 10]\n",
      " [11 11 13]]\n"
     ]
    }
   ],
   "source": [
    "import numpy as np\n",
    "\n",
    "# We will add the vector v to each row of the matrix x,\n",
    "# storing the result in the matrix y\n",
    "x_broad = np.array([[1,2,3], [4,5,6], [7,8,9], [10, 11, 12]])\n",
    "v_broad = np.array([1, 0, 1])\n",
    "y_broad = x_broad + v_broad  # Add v to each row of x using broadcasting\n",
    "print(y_broad)  # Prints \"[[ 2  2  4]\n",
    "          #          [ 5  5  7]\n",
    "          #          [ 8  8 10]\n",
    "          #          [11 11 13]]\""
   ]
  },
  {
   "cell_type": "code",
   "execution_count": 85,
   "metadata": {
    "collapsed": true
   },
   "outputs": [],
   "source": [
    "#The line y = x + v works even though x has shape (4, 3) and v has shape (3,) due to broadcasting; this line works as \n",
    "#if v actually had shape (4, 3), where each row was a copy of v, and the sum was performed elementwise.\n",
    "\n",
    "#Broadcasting two arrays together follows these rules:\n",
    "#1.If the arrays do not have the same rank, prepend the shape of the lower rank array with 1s until both shapes have \n",
    "#the same length.\n",
    "#2.The two arrays are said to be compatible in a dimension if they have the same size in the dimension, or if one of \n",
    "#the arrays has size 1 in that dimension.\n",
    "#3.The arrays can be broadcast together if they are compatible in all dimensions.\n",
    "#4.After broadcasting, each array behaves as if it had shape equal to the elementwise maximum of shapes of the two \n",
    "#input arrays.\n",
    "#5.In any dimension where one array had size 1 and the other array had size greater than 1, the first array behaves as \n",
    "#if it were copied along that dimension\n",
    "\n",
    "#If this explanation does not make sense, try reading the explanation from the documentation or this explanation.\n",
    "\n",
    "#Functions that support broadcasting are known as universal functions. You can find the list of all universal functions \n",
    "#in the documentation.\n",
    "\n",
    "#Here are some applications of broadcasting:"
   ]
  },
  {
   "cell_type": "code",
   "execution_count": 86,
   "metadata": {
    "collapsed": false
   },
   "outputs": [
    {
     "name": "stdout",
     "output_type": "stream",
     "text": [
      "[[ 4  5]\n",
      " [ 8 10]\n",
      " [12 15]]\n",
      "[[2 4 6]\n",
      " [5 7 9]]\n",
      "[[ 5  6  7]\n",
      " [ 9 10 11]]\n",
      "[[ 5  6  7]\n",
      " [ 9 10 11]]\n",
      "[[ 2  4  6]\n",
      " [ 8 10 12]]\n"
     ]
    }
   ],
   "source": [
    "import numpy as np\n",
    "\n",
    "# Compute outer product of vectors\n",
    "v_final = np.array([1,2,3])  # v has shape (3,)\n",
    "w_final = np.array([4,5])    # w has shape (2,)\n",
    "# To compute an outer product, we first reshape v to be a column\n",
    "# vector of shape (3, 1); we can then broadcast it against w to yield\n",
    "# an output of shape (3, 2), which is the outer product of v and w:\n",
    "# [[ 4  5]\n",
    "#  [ 8 10]\n",
    "#  [12 15]]\n",
    "print(np.reshape(v_final, (3, 1)) * w_final)\n",
    "\n",
    "# Add a vector to each row of a matrix\n",
    "x_final = np.array([[1,2,3], [4,5,6]])\n",
    "# x has shape (2, 3) and v has shape (3,) so they broadcast to (2, 3),\n",
    "# giving the following matrix:\n",
    "# [[2 4 6]\n",
    "#  [5 7 9]]\n",
    "print(x_final + v_final)\n",
    "\n",
    "# Add a vector to each column of a matrix\n",
    "# x has shape (2, 3) and w has shape (2,).\n",
    "# If we transpose x then it has shape (3, 2) and can be broadcast\n",
    "# against w to yield a result of shape (3, 2); transposing this result\n",
    "# yields the final result of shape (2, 3) which is the matrix x with\n",
    "# the vector w added to each column. Gives the following matrix:\n",
    "# [[ 5  6  7]\n",
    "#  [ 9 10 11]]\n",
    "print((x_final.T + w_final).T)\n",
    "# Another solution is to reshape w to be a column vector of shape (2, 1);\n",
    "# we can then broadcast it directly against x to produce the same\n",
    "# output.\n",
    "print(x_final + np.reshape(w_final, (2, 1)))\n",
    "\n",
    "# Multiply a matrix by a constant:\n",
    "# x has shape (2, 3). Numpy treats scalars as arrays of shape ();\n",
    "# these can be broadcast together to shape (2, 3), producing the\n",
    "# following array:\n",
    "# [[ 2  4  6]\n",
    "#  [ 8 10 12]]\n",
    "print(x_final * 2)"
   ]
  },
  {
   "cell_type": "code",
   "execution_count": 87,
   "metadata": {
    "collapsed": true
   },
   "outputs": [],
   "source": [
    "#Broadcasting typically makes your code more concise and faster, so you should strive to use it where possible."
   ]
  },
  {
   "cell_type": "code",
   "execution_count": 88,
   "metadata": {
    "collapsed": true
   },
   "outputs": [],
   "source": [
    "#Numpy Documentation \n",
    "\n",
    "#This brief overview has touched on many of the important things that you need to know about numpy, but is far \n",
    "#from complete. Check out the numpy reference to find out much more about numpy."
   ]
  },
  {
   "cell_type": "code",
   "execution_count": 89,
   "metadata": {
    "collapsed": true
   },
   "outputs": [],
   "source": [
    "#SciPy \n",
    "\n",
    "#Numpy provides a high-performance multidimensional array and basic tools to compute with and manipulate these arrays. \n",
    "#SciPy builds on this, and provides a large number of functions that operate on numpy arrays and are useful for \n",
    "#different types of scientific and engineering applications.\n",
    "\n",
    "#The best way to get familiar with SciPy is to browse the documentation. We will highlight some parts of SciPy that \n",
    "#you might find useful for this class."
   ]
  },
  {
   "cell_type": "code",
   "execution_count": 90,
   "metadata": {
    "collapsed": true
   },
   "outputs": [],
   "source": [
    "#Image operations \n",
    "\n",
    "#SciPy provides some basic functions to work with images. For example, it has functions to read images from disk \n",
    "#into numpy arrays, to write numpy arrays to disk as images, and to resize images. Here is a simple example that \n",
    "#showcases these functions:"
   ]
  },
  {
   "cell_type": "code",
   "execution_count": 91,
   "metadata": {
    "collapsed": false
   },
   "outputs": [
    {
     "name": "stdout",
     "output_type": "stream",
     "text": [
      "uint8 (300, 300, 3)\n"
     ]
    }
   ],
   "source": [
    "from scipy.misc import imread, imsave, imresize\n",
    "\n",
    "# Read an JPEG image into a numpy array\n",
    "img_pic = imread('RaajeshLR.jpg')\n",
    "print(img_pic.dtype, img_pic.shape)  # Prints \"uint8 (400, 248, 3)\"\n",
    "\n",
    "# We can tint the image by scaling each of the color channels\n",
    "# by a different scalar constant. The image has shape (400, 248, 3);\n",
    "# we multiply it by the array [1, 0.95, 0.9] of shape (3,);\n",
    "# numpy broadcasting means that this leaves the red channel unchanged,\n",
    "# and multiplies the green and blue channels by 0.95 and 0.9\n",
    "# respectively.\n",
    "img_tinted_pic = img_pic * [1, 0.95, 0.9]\n",
    "\n",
    "# Resize the tinted image to be 300 by 300 pixels.\n",
    "img_tinted_pic = imresize(img_tinted_pic, (300, 300))\n",
    "\n",
    "# Write the tinted image back to disk\n",
    "imsave('RaajeshLR.jpg', img_tinted_pic)"
   ]
  },
  {
   "cell_type": "code",
   "execution_count": 92,
   "metadata": {
    "collapsed": true
   },
   "outputs": [],
   "source": [
    "#Left: The original image. Right: The tinted and resized image. \n",
    "\n",
    "#MATLAB files \n",
    "\n",
    "#The functions scipy.io.loadmat and scipy.io.savemat allow you to read and write MATLAB files. You can read about them \n",
    "#in the documentation.\n",
    "\n",
    "#Distance between points \n",
    "\n",
    "#SciPy defines some useful functions for computing distances between sets of points.\n",
    "\n",
    "#The function scipy.spatial.distance.pdist computes the distance between all pairs of points in a given set:"
   ]
  },
  {
   "cell_type": "code",
   "execution_count": 93,
   "metadata": {
    "collapsed": false
   },
   "outputs": [
    {
     "name": "stdout",
     "output_type": "stream",
     "text": [
      "[[0 1]\n",
      " [1 0]\n",
      " [2 0]]\n",
      "[[ 0.          1.41421356  2.23606798]\n",
      " [ 1.41421356  0.          1.        ]\n",
      " [ 2.23606798  1.          0.        ]]\n"
     ]
    }
   ],
   "source": [
    "import numpy as np\n",
    "from scipy.spatial.distance import pdist, squareform\n",
    "\n",
    "# Create the following array where each row is a point in 2D space:\n",
    "# [[0 1]\n",
    "#  [1 0]\n",
    "#  [2 0]]\n",
    "x_multidim = np.array([[0, 1], [1, 0], [2, 0]])\n",
    "print(x_multidim)\n",
    "\n",
    "# Compute the Euclidean distance between all rows of x.\n",
    "# d[i, j] is the Euclidean distance between x[i, :] and x[j, :],\n",
    "# and d is the following array:\n",
    "# [[ 0.          1.41421356  2.23606798]\n",
    "#  [ 1.41421356  0.          1.        ]\n",
    "#  [ 2.23606798  1.          0.        ]]\n",
    "d_multidim = squareform(pdist(x_multidim, 'euclidean'))\n",
    "print(d_multidim)"
   ]
  },
  {
   "cell_type": "code",
   "execution_count": 94,
   "metadata": {
    "collapsed": true
   },
   "outputs": [],
   "source": [
    "#You can read all the details about this function in the documentation.\n",
    "\n",
    "#A similar function (scipy.spatial.distance.cdist) computes the distance between all pairs across two sets of points; \n",
    "#you can read about it in the documentation.\n",
    "\n",
    "#Matplotlib \n",
    "\n",
    "#Matplotlib is a plotting library. In this section give a brief introduction to the matplotlib.pyplot module, which \n",
    "#provides a plotting system similar to that of MATLAB.\n",
    "\n",
    "#Plotting \n",
    "\n",
    "#The most important function in matplotlib is plot, which allows you to plot 2D data. Here is a simple example:"
   ]
  },
  {
   "cell_type": "code",
   "execution_count": 95,
   "metadata": {
    "collapsed": false
   },
   "outputs": [
    {
     "data": {
      "image/png": "[encoded data removed]",
      "text/plain": [
       "<matplotlib.figure.Figure at 0x30bf7b0>"
      ]
     },
     "metadata": {},
     "output_type": "display_data"
    }
   ],
   "source": [
    "import numpy as np\n",
    "import matplotlib.pyplot as plt\n",
    "\n",
    "# Compute the x and y coordinates for points on a sine curve\n",
    "x_coord = np.arange(0, 3 * np.pi, 0.1)\n",
    "y_coord = np.sin(x_coord)\n",
    "\n",
    "# Plot the points using matplotlib\n",
    "plt.plot(x_coord, y_coord)\n",
    "plt.show()  # You must call plt.show() to make graphics appear."
   ]
  },
  {
   "cell_type": "code",
   "execution_count": 96,
   "metadata": {
    "collapsed": true
   },
   "outputs": [],
   "source": [
    "#Running this code produces the following plot:\n",
    "\n",
    "\n",
    "#With just a little bit of extra work we can easily plot multiple lines at once, and add a title, legend, and axis \n",
    "#labels:"
   ]
  },
  {
   "cell_type": "code",
   "execution_count": 98,
   "metadata": {
    "collapsed": false
   },
   "outputs": [
    {
     "data": {
      "image/png": "[encoded data removed]",
      "text/plain": [
       "<matplotlib.figure.Figure at 0xb11d190>"
      ]
     },
     "metadata": {},
     "output_type": "display_data"
    }
   ],
   "source": [
    "import numpy as np\n",
    "import matplotlib.pyplot as plt\n",
    "\n",
    "# Compute the x and y coordinates for points on sine and cosine curves\n",
    "x_plot = np.arange(0, 3 * np.pi, 0.1)\n",
    "y_sin_plot = np.sin(x_plot)\n",
    "y_cos_plot = np.cos(x_plot)\n",
    "\n",
    "# Plot the points using matplotlib\n",
    "plt.plot(x_plot, y_sin_plot)\n",
    "plt.plot(x_plot, y_cos_plot)\n",
    "plt.xlabel('x axis label')\n",
    "plt.ylabel('y axis label')\n",
    "plt.title('Sine and Cosine')\n",
    "plt.legend(['Sine', 'Cosine'])\n",
    "plt.show()"
   ]
  },
  {
   "cell_type": "code",
   "execution_count": 99,
   "metadata": {
    "collapsed": true
   },
   "outputs": [],
   "source": [
    "#Subplots \n",
    "\n",
    "#You can plot different things in the same figure using the subplot function. Here is an example:"
   ]
  },
  {
   "cell_type": "code",
   "execution_count": 100,
   "metadata": {
    "collapsed": false
   },
   "outputs": [
    {
     "data": {
      "image/png": "[encoded data removed]",
      "text/plain": [
       "<matplotlib.figure.Figure at 0x54513d0>"
      ]
     },
     "metadata": {},
     "output_type": "display_data"
    }
   ],
   "source": [
    "import numpy as np\n",
    "import matplotlib.pyplot as plt\n",
    "\n",
    "# Compute the x and y coordinates for points on sine and cosine curves\n",
    "x_splot = np.arange(0, 3 * np.pi, 0.1)\n",
    "y_sin_splot = np.sin(x_splot)\n",
    "y_cos_splot = np.cos(x_splot)\n",
    "\n",
    "# Set up a subplot grid that has height 2 and width 1,\n",
    "# and set the first such subplot as active.\n",
    "plt.subplot(2, 1, 1)\n",
    "\n",
    "# Make the first plot\n",
    "plt.plot(x_splot, y_sin_splot)\n",
    "plt.title('Sine')\n",
    "\n",
    "# Set the second subplot as active, and make the second plot.\n",
    "plt.subplot(2, 1, 2)\n",
    "plt.plot(x_splot, y_cos_splot)\n",
    "plt.title('Cosine')\n",
    "\n",
    "# Show the figure.\n",
    "plt.show()"
   ]
  },
  {
   "cell_type": "code",
   "execution_count": 101,
   "metadata": {
    "collapsed": true
   },
   "outputs": [],
   "source": [
    "#Images \n",
    "\n",
    "#You can use the imshow function to show images. Here is an example:"
   ]
  },
  {
   "cell_type": "code",
   "execution_count": 102,
   "metadata": {
    "collapsed": false
   },
   "outputs": [
    {
     "data": {
      "image/png": "[encoded data removed]",
      "text/plain": [
       "<matplotlib.figure.Figure at 0xb1342f0>"
      ]
     },
     "metadata": {},
     "output_type": "display_data"
    }
   ],
   "source": [
    "import numpy as np\n",
    "from scipy.misc import imread, imresize\n",
    "import matplotlib.pyplot as plt\n",
    "\n",
    "img_last = imread('RaajeshLR.jpg')\n",
    "img_tinted_last = img_last * [1, 0.95, 0.9]\n",
    "\n",
    "# Show the original image\n",
    "plt.subplot(1, 2, 1)\n",
    "plt.imshow(img_last)\n",
    "\n",
    "# Show the tinted image\n",
    "plt.subplot(1, 2, 2)\n",
    "\n",
    "# A slight gotcha with imshow is that it might give strange results\n",
    "# if presented with data that is not uint8. To work around this, we\n",
    "# explicitly cast the image to uint8 before displaying it.\n",
    "plt.imshow(np.uint8(img_tinted_last))\n",
    "plt.show()"
   ]
  },
  {
   "cell_type": "code",
   "execution_count": null,
   "metadata": {
    "collapsed": true
   },
   "outputs": [],
   "source": []
  }
 ],
 "metadata": {
  "kernelspec": {
   "display_name": "Python [default]",
   "language": "python",
   "name": "python3"
  },
  "language_info": {
   "codemirror_mode": {
    "name": "ipython",
    "version": 3
   },
   "file_extension": ".py",
   "mimetype": "text/x-python",
   "name": "python",
   "nbconvert_exporter": "python",
   "pygments_lexer": "ipython3",
   "version": "3.5.2"
  }
 },
 "nbformat": 4,
 "nbformat_minor": 2
}
